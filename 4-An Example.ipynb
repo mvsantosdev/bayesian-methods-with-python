{
 "cells": [
  {
   "cell_type": "code",
   "execution_count": 1,
   "metadata": {},
   "outputs": [],
   "source": [
    "import pandas as pd\n",
    "\n",
    "import numpy as np\n",
    "\n",
    "import matplotlib.pyplot as plt"
   ]
  },
  {
   "cell_type": "code",
   "execution_count": 2,
   "metadata": {},
   "outputs": [],
   "source": [
    "table = pd.read_csv('data/OHD.dat')"
   ]
  },
  {
   "cell_type": "code",
   "execution_count": 3,
   "metadata": {},
   "outputs": [
    {
     "data": {
      "text/plain": [
       "(0, 2)"
      ]
     },
     "execution_count": 3,
     "metadata": {},
     "output_type": "execute_result"
    },
    {
     "data": {
      "image/png": "[encoded data removed]",
      "text/plain": [
       "<Figure size 432x288 with 1 Axes>"
      ]
     },
     "metadata": {
      "needs_background": "light"
     },
     "output_type": "display_data"
    }
   ],
   "source": [
    "table.plot(x='z', y='H', yerr='uH', fmt='o')\n",
    "\n",
    "plt.xlim(0, 2)"
   ]
  },
  {
   "cell_type": "markdown",
   "metadata": {},
   "source": [
    "$$ r(t) = a(t)r_0, ~~~ H(t) = \\frac{\\dot{a}}{a} $$\n",
    "\n",
    "$$ H^2(z) = H_0^2 [\\Omega_{m0} (1+z)^3 + \\Omega_{\\Lambda 0}], ~~ \\Omega_{m0} + \\Omega_{\\Lambda 0} = 1, (\\text{flat}) $$\n",
    "\n",
    "$$ H^2(z) = H_0^2 [\\Omega_{m0} (1+z)^3 + \\Omega_{k0} (1+z)^2 + \\Omega_{\\Lambda 0}], ~~ \\Omega_{m0} + \\Omega_{\\Lambda 0} = 1 - \\Omega_{k0}, (\\text{curved}) $$"
   ]
  },
  {
   "cell_type": "markdown",
   "metadata": {},
   "source": [
    "$$ H_0 = 100 h \\frac{Km/s}{Mpc}, \\rightarrow h = \\frac{H_0}{100Km/s/Mpc} $$"
   ]
  },
  {
   "cell_type": "markdown",
   "metadata": {},
   "source": [
    "Likelihood:\n",
    "\n",
    "$$ L(h, \\Omega_{m0}, \\Omega_{\\Lambda 0}) = \\prod_i^N L_i(z_i, h, \\Omega_{m0}, \\Omega_{\\Lambda 0}) $$\n",
    "\n",
    "$ \\epsilon = H(z_i, h, \\Omega_{m0}, \\Omega_{\\Lambda 0}) - H_i \\sim \\sigma_H N(0,1)$\n",
    "\n",
    "$$ L_i(z_i, h, \\Omega_{m0}, \\Omega_{\\Lambda 0}) = \\frac{1}{\\sqrt{2\\pi}\\sigma_H} \\exp\\{-\\frac{(H(z_i, h, \\Omega_{m0}, \\Omega_{\\Lambda 0}) - H_i)^2}{2\\sigma_H^2}\\} $$\n",
    "\n",
    "$$ L(h, \\Omega_{m0}, \\Omega_{\\Lambda 0}) = \\frac{1}{\\sqrt{2\\pi}\\prod_i\\sigma_{Hi}} \\exp\\{-\\sum_i\\frac{(H(z_i, h, \\Omega_{m0}, \\Omega_{\\Lambda 0}) - H_i)^2}{2\\sigma_H^2}\\} $$\n",
    "\n",
    "$$ -2 \\log{L} = \\sum_i\\frac{(H(z_i, h, \\Omega_{m0}, \\Omega_{\\Lambda 0}) - H_i)^2}{\\sigma_H^2} + C$$\n",
    "\n",
    "minimizar\n",
    "\n",
    "$$ \\chi^2 = \\sum_i\\frac{(H(z_i, h, \\Omega_{m0}, \\Omega_{\\Lambda 0}) - H_i)^2}{\\sigma_H^2} $$"
   ]
  },
  {
   "cell_type": "code",
   "execution_count": 4,
   "metadata": {},
   "outputs": [],
   "source": [
    "def Hubble(z, h, Om, Ol):\n",
    "    \n",
    "    Ok = 1 - Om - Ol\n",
    "    q = 1+z\n",
    "    \n",
    "    Esq = Om*q**3 + Ok*q**2 + Ol\n",
    "    \n",
    "    if np.all(Esq > 0) and h > 0:\n",
    "        \n",
    "        H0 = 100*h\n",
    "    \n",
    "        return H0*np.sqrt(Esq)\n",
    "    \n",
    "    return 0"
   ]
  },
  {
   "cell_type": "code",
   "execution_count": 5,
   "metadata": {},
   "outputs": [
    {
     "data": {
      "text/plain": [
       "20.09978088683653"
      ]
     },
     "execution_count": 5,
     "metadata": {},
     "output_type": "execute_result"
    }
   ],
   "source": [
    "q = (Hubble(table.z, .7, .3, .7) - table.H)/table.uH\n",
    "\n",
    "(q**2).sum()"
   ]
  },
  {
   "cell_type": "code",
   "execution_count": 6,
   "metadata": {},
   "outputs": [
    {
     "data": {
      "text/plain": [
       "20.099780886836534"
      ]
     },
     "execution_count": 6,
     "metadata": {},
     "output_type": "execute_result"
    }
   ],
   "source": [
    "q@q"
   ]
  },
  {
   "cell_type": "code",
   "execution_count": 7,
   "metadata": {},
   "outputs": [],
   "source": [
    "def chisq(h, Om, Ol):\n",
    "    \n",
    "    q = (Hubble(table.z, h, Om, Ol) - table.H)/table.uH\n",
    "    \n",
    "    return q@q"
   ]
  },
  {
   "cell_type": "code",
   "execution_count": 8,
   "metadata": {},
   "outputs": [],
   "source": [
    "from iminuit import Minuit"
   ]
  },
  {
   "cell_type": "code",
   "execution_count": 9,
   "metadata": {},
   "outputs": [
    {
     "name": "stderr",
     "output_type": "stream",
     "text": [
      "/home/marcelo/miniconda3/lib/python3.7/site-packages/ipykernel_launcher.py:2: InitialParamWarning: Parameter h is floating but does not have initial step size. Assume 1.\n",
      "  \n",
      "/home/marcelo/miniconda3/lib/python3.7/site-packages/ipykernel_launcher.py:2: InitialParamWarning: Parameter Om is floating but does not have initial step size. Assume 1.\n",
      "  \n",
      "/home/marcelo/miniconda3/lib/python3.7/site-packages/ipykernel_launcher.py:2: InitialParamWarning: Parameter Ol is floating but does not have initial step size. Assume 1.\n",
      "  \n",
      "/home/marcelo/miniconda3/lib/python3.7/site-packages/ipykernel_launcher.py:2: InitialParamWarning: errordef is not given. Default to 1.\n",
      "  \n"
     ]
    }
   ],
   "source": [
    "m = Minuit(chisq, h=.7, Om=.3, Ol=.7, limit_h=(0,1),\n",
    "       limit_Om=(0,1), limit_Ol=(0,1))"
   ]
  },
  {
   "cell_type": "code",
   "execution_count": 10,
   "metadata": {},
   "outputs": [
    {
     "data": {
      "text/html": [
       "<table>\n",
       "<tr>\n",
       "<td colspan=\"2\" title=\"Minimum value of function\">\n",
       "FCN = 15.74\n",
       "</td>\n",
       "<td align=\"center\" colspan=\"3\" title=\"No. of calls in last algorithm and total number of calls\">\n",
       "Ncalls = 62 (62 total)\n",
       "</td>\n",
       "</tr>\n",
       "<tr>\n",
       "<td colspan=\"2\" title=\"Estimated distance to minimum and target threshold\">\n",
       "EDM = 8.5E-06 (Goal: 1E-05)\n",
       "</td>\n",
       "<td align=\"center\" colspan=\"3\" title=\"Increase in FCN which corresponds to 1 standard deviation\">\n",
       "up = 1.0\n",
       "</td>\n",
       "</tr>\n",
       "<tr>\n",
       "<td align=\"center\" title=\"Validity of the migrad call\">\n",
       "Valid Min.\n",
       "</td>\n",
       "<td align=\"center\" title=\"Validity of parameters\">\n",
       "Valid Param.\n",
       "</td>\n",
       "<td align=\"center\" title=\"Is EDM above goal EDM?\">\n",
       "Above EDM\n",
       "</td>\n",
       "<td align=\"center\" colspan=\"2\" title=\"Did last migrad call reach max call limit?\">\n",
       "Reached call limit\n",
       "</td>\n",
       "</tr>\n",
       "<tr>\n",
       "<td align=\"center\" style=\"background-color:#92CCA6;\">\n",
       "True\n",
       "</td>\n",
       "<td align=\"center\" style=\"background-color:#92CCA6;\">\n",
       "True\n",
       "</td>\n",
       "<td align=\"center\" style=\"background-color:#92CCA6;\">\n",
       "False\n",
       "</td>\n",
       "<td align=\"center\" colspan=\"2\" style=\"background-color:#92CCA6;\">\n",
       "False\n",
       "</td>\n",
       "</tr>\n",
       "<tr>\n",
       "<td align=\"center\" title=\"Did Hesse fail?\">\n",
       "Hesse failed\n",
       "</td>\n",
       "<td align=\"center\" title=\"Has covariance matrix\">\n",
       "Has cov.\n",
       "</td>\n",
       "<td align=\"center\" title=\"Is covariance matrix accurate?\">\n",
       "Accurate\n",
       "</td>\n",
       "<td align=\"center\" title=\"Is covariance matrix positive definite?\">\n",
       "Pos. def.\n",
       "</td>\n",
       "<td align=\"center\" title=\"Was positive definiteness enforced by Minuit?\">\n",
       "Forced\n",
       "</td>\n",
       "</tr>\n",
       "<tr>\n",
       "<td align=\"center\" style=\"background-color:#92CCA6;\">\n",
       "False\n",
       "</td>\n",
       "<td align=\"center\" style=\"background-color:#92CCA6;\">\n",
       "True\n",
       "</td>\n",
       "<td align=\"center\" style=\"background-color:#92CCA6;\">\n",
       "True\n",
       "</td>\n",
       "<td align=\"center\" style=\"background-color:#92CCA6;\">\n",
       "True\n",
       "</td>\n",
       "<td align=\"center\" style=\"background-color:#92CCA6;\">\n",
       "False\n",
       "</td>\n",
       "</tr>\n",
       "</table>\n",
       "<table>\n",
       "<tr style=\"background-color:#F4F4F4;\">\n",
       "<td/>\n",
       "<th title=\"Variable name\">\n",
       "Name\n",
       "</th>\n",
       "<th title=\"Value of parameter\">\n",
       "Value\n",
       "</th>\n",
       "<th title=\"Hesse error\">\n",
       "Hesse Error\n",
       "</th>\n",
       "<th title=\"Minos lower error\">\n",
       "Minos Error-\n",
       "</th>\n",
       "<th title=\"Minos upper error\">\n",
       "Minos Error+\n",
       "</th>\n",
       "<th title=\"Lower limit of the parameter\">\n",
       "Limit-\n",
       "</th>\n",
       "<th title=\"Upper limit of the parameter\">\n",
       "Limit+\n",
       "</th>\n",
       "<th title=\"Is the parameter fixed in the fit\">\n",
       "Fixed\n",
       "</th>\n",
       "</tr>\n",
       "<tr style=\"background-color:#FFFFFF;\">\n",
       "<td>\n",
       "0\n",
       "</td>\n",
       "<td>\n",
       "h\n",
       "</td>\n",
       "<td>\n",
       "0.67\n",
       "</td>\n",
       "<td>\n",
       "0.04\n",
       "</td>\n",
       "<td>\n",
       "\n",
       "</td>\n",
       "<td>\n",
       "\n",
       "</td>\n",
       "<td>\n",
       "0\n",
       "</td>\n",
       "<td>\n",
       "1\n",
       "</td>\n",
       "<td>\n",
       "\n",
       "</td>\n",
       "</tr>\n",
       "<tr style=\"background-color:#F4F4F4;\">\n",
       "<td>\n",
       "1\n",
       "</td>\n",
       "<td>\n",
       "Om\n",
       "</td>\n",
       "<td>\n",
       "0.37\n",
       "</td>\n",
       "<td>\n",
       "0.16\n",
       "</td>\n",
       "<td>\n",
       "\n",
       "</td>\n",
       "<td>\n",
       "\n",
       "</td>\n",
       "<td>\n",
       "0\n",
       "</td>\n",
       "<td>\n",
       "1\n",
       "</td>\n",
       "<td>\n",
       "\n",
       "</td>\n",
       "</tr>\n",
       "<tr style=\"background-color:#FFFFFF;\">\n",
       "<td>\n",
       "2\n",
       "</td>\n",
       "<td>\n",
       "Ol\n",
       "</td>\n",
       "<td>\n",
       "0.70\n",
       "</td>\n",
       "<td>\n",
       "0.29\n",
       "</td>\n",
       "<td>\n",
       "\n",
       "</td>\n",
       "<td>\n",
       "\n",
       "</td>\n",
       "<td>\n",
       "0\n",
       "</td>\n",
       "<td>\n",
       "1\n",
       "</td>\n",
       "<td>\n",
       "\n",
       "</td>\n",
       "</tr>\n",
       "</table>\n"
      ],
      "text/plain": [
       "------------------------------------------------------------------\n",
       "| FCN = 15.74                   |      Ncalls=62 (62 total)      |\n",
       "| EDM = 8.5E-06 (Goal: 1E-05)   |            up = 1.0            |\n",
       "------------------------------------------------------------------\n",
       "|  Valid Min.   | Valid Param.  | Above EDM | Reached call limit |\n",
       "------------------------------------------------------------------\n",
       "|     True      |     True      |   False   |       False        |\n",
       "------------------------------------------------------------------\n",
       "| Hesse failed  |   Has cov.    | Accurate  | Pos. def. | Forced |\n",
       "------------------------------------------------------------------\n",
       "|     False     |     True      |   True    |   True    | False  |\n",
       "------------------------------------------------------------------\n",
       "------------------------------------------------------------------------------------------\n",
       "|   | Name |   Value   | Hesse Err | Minos Err- | Minos Err+ | Limit-  | Limit+  | Fixed |\n",
       "------------------------------------------------------------------------------------------\n",
       "| 0 | h    |   0.67    |   0.04    |            |            |    0    |    1    |       |\n",
       "| 1 | Om   |   0.37    |   0.16    |            |            |    0    |    1    |       |\n",
       "| 2 | Ol   |   0.70    |   0.29    |            |            |    0    |    1    |       |\n",
       "------------------------------------------------------------------------------------------"
      ]
     },
     "execution_count": 10,
     "metadata": {},
     "output_type": "execute_result"
    }
   ],
   "source": [
    "m.migrad()"
   ]
  },
  {
   "cell_type": "code",
   "execution_count": null,
   "metadata": {},
   "outputs": [],
   "source": []
  },
  {
   "cell_type": "code",
   "execution_count": null,
   "metadata": {},
   "outputs": [],
   "source": []
  },
  {
   "cell_type": "code",
   "execution_count": 11,
   "metadata": {},
   "outputs": [],
   "source": [
    "from getdist import plots, MCSamples\n",
    "from getdist.gaussian_mixtures import GaussianND"
   ]
  },
  {
   "cell_type": "code",
   "execution_count": 12,
   "metadata": {},
   "outputs": [
    {
     "data": {
      "image/png": "[encoded data removed]",
      "text/plain": [
       "<Figure size 432x432 with 6 Axes>"
      ]
     },
     "metadata": {
      "needs_background": "light"
     },
     "output_type": "display_data"
    }
   ],
   "source": [
    "covariance = np.array(m.matrix())\n",
    "mean = np.array([m.values[p] for p in m.parameters])\n",
    "\n",
    "gauss=GaussianND(mean, covariance, labels=m.parameters)\n",
    "\n",
    "g = plots.get_subplot_plotter()\n",
    "g.settings.num_plot_contours = 3\n",
    "g.triangle_plot(gauss,filled=False)"
   ]
  },
  {
   "cell_type": "code",
   "execution_count": 13,
   "metadata": {},
   "outputs": [],
   "source": [
    "h = np.linspace(0.4, 1.0, 30)\n",
    "Om = np.linspace(0.0, 1.0, 30)\n",
    "Ol = np.linspace(0.0, 1.0, 30)"
   ]
  },
  {
   "cell_type": "code",
   "execution_count": 14,
   "metadata": {},
   "outputs": [],
   "source": [
    "H, OM, OL = np.meshgrid(h, Om, Ol)"
   ]
  },
  {
   "cell_type": "code",
   "execution_count": 15,
   "metadata": {},
   "outputs": [],
   "source": [
    "vchisq = np.vectorize(chisq)"
   ]
  },
  {
   "cell_type": "code",
   "execution_count": 16,
   "metadata": {},
   "outputs": [
    {
     "ename": "KeyboardInterrupt",
     "evalue": "",
     "output_type": "error",
     "traceback": [
      "\u001b[0;31m---------------------------------------------------------------------------\u001b[0m",
      "\u001b[0;31mKeyboardInterrupt\u001b[0m                         Traceback (most recent call last)",
      "\u001b[0;32m<ipython-input-16-28c7ff251000>\u001b[0m in \u001b[0;36m<module>\u001b[0;34m\u001b[0m\n\u001b[0;32m----> 1\u001b[0;31m \u001b[0mgrid\u001b[0m \u001b[0;34m=\u001b[0m \u001b[0mvchisq\u001b[0m\u001b[0;34m(\u001b[0m\u001b[0mH\u001b[0m\u001b[0;34m,\u001b[0m \u001b[0mOM\u001b[0m\u001b[0;34m,\u001b[0m \u001b[0mOL\u001b[0m\u001b[0;34m)\u001b[0m\u001b[0;34m\u001b[0m\u001b[0;34m\u001b[0m\u001b[0m\n\u001b[0m",
      "\u001b[0;32m~/miniconda3/lib/python3.7/site-packages/numpy/lib/function_base.py\u001b[0m in \u001b[0;36m__call__\u001b[0;34m(self, *args, **kwargs)\u001b[0m\n\u001b[1;32m   2089\u001b[0m             \u001b[0mvargs\u001b[0m\u001b[0;34m.\u001b[0m\u001b[0mextend\u001b[0m\u001b[0;34m(\u001b[0m\u001b[0;34m[\u001b[0m\u001b[0mkwargs\u001b[0m\u001b[0;34m[\u001b[0m\u001b[0m_n\u001b[0m\u001b[0;34m]\u001b[0m \u001b[0;32mfor\u001b[0m \u001b[0m_n\u001b[0m \u001b[0;32min\u001b[0m \u001b[0mnames\u001b[0m\u001b[0;34m]\u001b[0m\u001b[0;34m)\u001b[0m\u001b[0;34m\u001b[0m\u001b[0;34m\u001b[0m\u001b[0m\n\u001b[1;32m   2090\u001b[0m \u001b[0;34m\u001b[0m\u001b[0m\n\u001b[0;32m-> 2091\u001b[0;31m         \u001b[0;32mreturn\u001b[0m \u001b[0mself\u001b[0m\u001b[0;34m.\u001b[0m\u001b[0m_vectorize_call\u001b[0m\u001b[0;34m(\u001b[0m\u001b[0mfunc\u001b[0m\u001b[0;34m=\u001b[0m\u001b[0mfunc\u001b[0m\u001b[0;34m,\u001b[0m \u001b[0margs\u001b[0m\u001b[0;34m=\u001b[0m\u001b[0mvargs\u001b[0m\u001b[0;34m)\u001b[0m\u001b[0;34m\u001b[0m\u001b[0;34m\u001b[0m\u001b[0m\n\u001b[0m\u001b[1;32m   2092\u001b[0m \u001b[0;34m\u001b[0m\u001b[0m\n\u001b[1;32m   2093\u001b[0m     \u001b[0;32mdef\u001b[0m \u001b[0m_get_ufunc_and_otypes\u001b[0m\u001b[0;34m(\u001b[0m\u001b[0mself\u001b[0m\u001b[0;34m,\u001b[0m \u001b[0mfunc\u001b[0m\u001b[0;34m,\u001b[0m \u001b[0margs\u001b[0m\u001b[0;34m)\u001b[0m\u001b[0;34m:\u001b[0m\u001b[0;34m\u001b[0m\u001b[0;34m\u001b[0m\u001b[0m\n",
      "\u001b[0;32m~/miniconda3/lib/python3.7/site-packages/numpy/lib/function_base.py\u001b[0m in \u001b[0;36m_vectorize_call\u001b[0;34m(self, func, args)\u001b[0m\n\u001b[1;32m   2165\u001b[0m                       for a in args]\n\u001b[1;32m   2166\u001b[0m \u001b[0;34m\u001b[0m\u001b[0m\n\u001b[0;32m-> 2167\u001b[0;31m             \u001b[0moutputs\u001b[0m \u001b[0;34m=\u001b[0m \u001b[0mufunc\u001b[0m\u001b[0;34m(\u001b[0m\u001b[0;34m*\u001b[0m\u001b[0minputs\u001b[0m\u001b[0;34m)\u001b[0m\u001b[0;34m\u001b[0m\u001b[0;34m\u001b[0m\u001b[0m\n\u001b[0m\u001b[1;32m   2168\u001b[0m \u001b[0;34m\u001b[0m\u001b[0m\n\u001b[1;32m   2169\u001b[0m             \u001b[0;32mif\u001b[0m \u001b[0mufunc\u001b[0m\u001b[0;34m.\u001b[0m\u001b[0mnout\u001b[0m \u001b[0;34m==\u001b[0m \u001b[0;36m1\u001b[0m\u001b[0;34m:\u001b[0m\u001b[0;34m\u001b[0m\u001b[0;34m\u001b[0m\u001b[0m\n",
      "\u001b[0;32m<ipython-input-7-6c2311b58d24>\u001b[0m in \u001b[0;36mchisq\u001b[0;34m(h, Om, Ol)\u001b[0m\n\u001b[1;32m      1\u001b[0m \u001b[0;32mdef\u001b[0m \u001b[0mchisq\u001b[0m\u001b[0;34m(\u001b[0m\u001b[0mh\u001b[0m\u001b[0;34m,\u001b[0m \u001b[0mOm\u001b[0m\u001b[0;34m,\u001b[0m \u001b[0mOl\u001b[0m\u001b[0;34m)\u001b[0m\u001b[0;34m:\u001b[0m\u001b[0;34m\u001b[0m\u001b[0;34m\u001b[0m\u001b[0m\n\u001b[1;32m      2\u001b[0m \u001b[0;34m\u001b[0m\u001b[0m\n\u001b[0;32m----> 3\u001b[0;31m     \u001b[0mq\u001b[0m \u001b[0;34m=\u001b[0m \u001b[0;34m(\u001b[0m\u001b[0mHubble\u001b[0m\u001b[0;34m(\u001b[0m\u001b[0mtable\u001b[0m\u001b[0;34m.\u001b[0m\u001b[0mz\u001b[0m\u001b[0;34m,\u001b[0m \u001b[0mh\u001b[0m\u001b[0;34m,\u001b[0m \u001b[0mOm\u001b[0m\u001b[0;34m,\u001b[0m \u001b[0mOl\u001b[0m\u001b[0;34m)\u001b[0m \u001b[0;34m-\u001b[0m \u001b[0mtable\u001b[0m\u001b[0;34m.\u001b[0m\u001b[0mH\u001b[0m\u001b[0;34m)\u001b[0m\u001b[0;34m/\u001b[0m\u001b[0mtable\u001b[0m\u001b[0;34m.\u001b[0m\u001b[0muH\u001b[0m\u001b[0;34m\u001b[0m\u001b[0;34m\u001b[0m\u001b[0m\n\u001b[0m\u001b[1;32m      4\u001b[0m \u001b[0;34m\u001b[0m\u001b[0m\n\u001b[1;32m      5\u001b[0m     \u001b[0;32mreturn\u001b[0m \u001b[0mq\u001b[0m\u001b[0;34m@\u001b[0m\u001b[0mq\u001b[0m\u001b[0;34m\u001b[0m\u001b[0;34m\u001b[0m\u001b[0m\n",
      "\u001b[0;32m<ipython-input-4-e969ff57f4bb>\u001b[0m in \u001b[0;36mHubble\u001b[0;34m(z, h, Om, Ol)\u001b[0m\n\u001b[1;32m     10\u001b[0m         \u001b[0mH0\u001b[0m \u001b[0;34m=\u001b[0m \u001b[0;36m100\u001b[0m\u001b[0;34m*\u001b[0m\u001b[0mh\u001b[0m\u001b[0;34m\u001b[0m\u001b[0;34m\u001b[0m\u001b[0m\n\u001b[1;32m     11\u001b[0m \u001b[0;34m\u001b[0m\u001b[0m\n\u001b[0;32m---> 12\u001b[0;31m         \u001b[0;32mreturn\u001b[0m \u001b[0mH0\u001b[0m\u001b[0;34m*\u001b[0m\u001b[0mnp\u001b[0m\u001b[0;34m.\u001b[0m\u001b[0msqrt\u001b[0m\u001b[0;34m(\u001b[0m\u001b[0mEsq\u001b[0m\u001b[0;34m)\u001b[0m\u001b[0;34m\u001b[0m\u001b[0;34m\u001b[0m\u001b[0m\n\u001b[0m\u001b[1;32m     13\u001b[0m \u001b[0;34m\u001b[0m\u001b[0m\n\u001b[1;32m     14\u001b[0m     \u001b[0;32mreturn\u001b[0m \u001b[0;36m0\u001b[0m\u001b[0;34m\u001b[0m\u001b[0;34m\u001b[0m\u001b[0m\n",
      "\u001b[0;32m~/miniconda3/lib/python3.7/site-packages/pandas/core/ops/__init__.py\u001b[0m in \u001b[0;36mwrapper\u001b[0;34m(left, right)\u001b[0m\n\u001b[1;32m   1045\u001b[0m             \u001b[0mrvalues\u001b[0m \u001b[0;34m=\u001b[0m \u001b[0mrvalues\u001b[0m\u001b[0;34m.\u001b[0m\u001b[0m_values\u001b[0m\u001b[0;34m\u001b[0m\u001b[0;34m\u001b[0m\u001b[0m\n\u001b[1;32m   1046\u001b[0m \u001b[0;34m\u001b[0m\u001b[0m\n\u001b[0;32m-> 1047\u001b[0;31m         \u001b[0;32mwith\u001b[0m \u001b[0mnp\u001b[0m\u001b[0;34m.\u001b[0m\u001b[0merrstate\u001b[0m\u001b[0;34m(\u001b[0m\u001b[0mall\u001b[0m\u001b[0;34m=\u001b[0m\u001b[0;34m\"ignore\"\u001b[0m\u001b[0;34m)\u001b[0m\u001b[0;34m:\u001b[0m\u001b[0;34m\u001b[0m\u001b[0;34m\u001b[0m\u001b[0m\n\u001b[0m\u001b[1;32m   1048\u001b[0m             \u001b[0mresult\u001b[0m \u001b[0;34m=\u001b[0m \u001b[0mna_op\u001b[0m\u001b[0;34m(\u001b[0m\u001b[0mlvalues\u001b[0m\u001b[0;34m,\u001b[0m \u001b[0mrvalues\u001b[0m\u001b[0;34m)\u001b[0m\u001b[0;34m\u001b[0m\u001b[0;34m\u001b[0m\u001b[0m\n\u001b[1;32m   1049\u001b[0m         return construct_result(\n",
      "\u001b[0;32m~/miniconda3/lib/python3.7/site-packages/numpy/core/_ufunc_config.py\u001b[0m in \u001b[0;36m__enter__\u001b[0;34m(self)\u001b[0m\n\u001b[1;32m    440\u001b[0m \u001b[0;34m\u001b[0m\u001b[0m\n\u001b[1;32m    441\u001b[0m     \u001b[0;32mdef\u001b[0m \u001b[0m__enter__\u001b[0m\u001b[0;34m(\u001b[0m\u001b[0mself\u001b[0m\u001b[0;34m)\u001b[0m\u001b[0;34m:\u001b[0m\u001b[0;34m\u001b[0m\u001b[0;34m\u001b[0m\u001b[0m\n\u001b[0;32m--> 442\u001b[0;31m         \u001b[0mself\u001b[0m\u001b[0;34m.\u001b[0m\u001b[0moldstate\u001b[0m \u001b[0;34m=\u001b[0m \u001b[0mseterr\u001b[0m\u001b[0;34m(\u001b[0m\u001b[0;34m**\u001b[0m\u001b[0mself\u001b[0m\u001b[0;34m.\u001b[0m\u001b[0mkwargs\u001b[0m\u001b[0;34m)\u001b[0m\u001b[0;34m\u001b[0m\u001b[0;34m\u001b[0m\u001b[0m\n\u001b[0m\u001b[1;32m    443\u001b[0m         \u001b[0;32mif\u001b[0m \u001b[0mself\u001b[0m\u001b[0;34m.\u001b[0m\u001b[0mcall\u001b[0m \u001b[0;32mis\u001b[0m \u001b[0;32mnot\u001b[0m \u001b[0m_Unspecified\u001b[0m\u001b[0;34m:\u001b[0m\u001b[0;34m\u001b[0m\u001b[0;34m\u001b[0m\u001b[0m\n\u001b[1;32m    444\u001b[0m             \u001b[0mself\u001b[0m\u001b[0;34m.\u001b[0m\u001b[0moldcall\u001b[0m \u001b[0;34m=\u001b[0m \u001b[0mseterrcall\u001b[0m\u001b[0;34m(\u001b[0m\u001b[0mself\u001b[0m\u001b[0;34m.\u001b[0m\u001b[0mcall\u001b[0m\u001b[0;34m)\u001b[0m\u001b[0;34m\u001b[0m\u001b[0;34m\u001b[0m\u001b[0m\n",
      "\u001b[0;32m~/miniconda3/lib/python3.7/site-packages/numpy/core/_ufunc_config.py\u001b[0m in \u001b[0;36mseterr\u001b[0;34m(all, divide, over, under, invalid)\u001b[0m\n\u001b[1;32m    116\u001b[0m \u001b[0;34m\u001b[0m\u001b[0m\n\u001b[1;32m    117\u001b[0m     \u001b[0mpyvals\u001b[0m \u001b[0;34m=\u001b[0m \u001b[0mumath\u001b[0m\u001b[0;34m.\u001b[0m\u001b[0mgeterrobj\u001b[0m\u001b[0;34m(\u001b[0m\u001b[0;34m)\u001b[0m\u001b[0;34m\u001b[0m\u001b[0;34m\u001b[0m\u001b[0m\n\u001b[0;32m--> 118\u001b[0;31m     \u001b[0mold\u001b[0m \u001b[0;34m=\u001b[0m \u001b[0mgeterr\u001b[0m\u001b[0;34m(\u001b[0m\u001b[0;34m)\u001b[0m\u001b[0;34m\u001b[0m\u001b[0;34m\u001b[0m\u001b[0m\n\u001b[0m\u001b[1;32m    119\u001b[0m \u001b[0;34m\u001b[0m\u001b[0m\n\u001b[1;32m    120\u001b[0m     \u001b[0;32mif\u001b[0m \u001b[0mdivide\u001b[0m \u001b[0;32mis\u001b[0m \u001b[0;32mNone\u001b[0m\u001b[0;34m:\u001b[0m\u001b[0;34m\u001b[0m\u001b[0;34m\u001b[0m\u001b[0m\n",
      "\u001b[0;32m~/miniconda3/lib/python3.7/site-packages/numpy/core/_ufunc_config.py\u001b[0m in \u001b[0;36mgeterr\u001b[0;34m()\u001b[0m\n\u001b[1;32m    178\u001b[0m     \u001b[0mres\u001b[0m \u001b[0;34m=\u001b[0m \u001b[0;34m{\u001b[0m\u001b[0;34m}\u001b[0m\u001b[0;34m\u001b[0m\u001b[0;34m\u001b[0m\u001b[0m\n\u001b[1;32m    179\u001b[0m     \u001b[0mval\u001b[0m \u001b[0;34m=\u001b[0m \u001b[0;34m(\u001b[0m\u001b[0mmaskvalue\u001b[0m \u001b[0;34m>>\u001b[0m \u001b[0mSHIFT_DIVIDEBYZERO\u001b[0m\u001b[0;34m)\u001b[0m \u001b[0;34m&\u001b[0m \u001b[0mmask\u001b[0m\u001b[0;34m\u001b[0m\u001b[0;34m\u001b[0m\u001b[0m\n\u001b[0;32m--> 180\u001b[0;31m     \u001b[0mres\u001b[0m\u001b[0;34m[\u001b[0m\u001b[0;34m'divide'\u001b[0m\u001b[0;34m]\u001b[0m \u001b[0;34m=\u001b[0m \u001b[0m_errdict_rev\u001b[0m\u001b[0;34m[\u001b[0m\u001b[0mval\u001b[0m\u001b[0;34m]\u001b[0m\u001b[0;34m\u001b[0m\u001b[0;34m\u001b[0m\u001b[0m\n\u001b[0m\u001b[1;32m    181\u001b[0m     \u001b[0mval\u001b[0m \u001b[0;34m=\u001b[0m \u001b[0;34m(\u001b[0m\u001b[0mmaskvalue\u001b[0m \u001b[0;34m>>\u001b[0m \u001b[0mSHIFT_OVERFLOW\u001b[0m\u001b[0;34m)\u001b[0m \u001b[0;34m&\u001b[0m \u001b[0mmask\u001b[0m\u001b[0;34m\u001b[0m\u001b[0;34m\u001b[0m\u001b[0m\n\u001b[1;32m    182\u001b[0m     \u001b[0mres\u001b[0m\u001b[0;34m[\u001b[0m\u001b[0;34m'over'\u001b[0m\u001b[0;34m]\u001b[0m \u001b[0;34m=\u001b[0m \u001b[0m_errdict_rev\u001b[0m\u001b[0;34m[\u001b[0m\u001b[0mval\u001b[0m\u001b[0;34m]\u001b[0m\u001b[0;34m\u001b[0m\u001b[0;34m\u001b[0m\u001b[0m\n",
      "\u001b[0;31mKeyboardInterrupt\u001b[0m: "
     ]
    }
   ],
   "source": [
    "grid = vchisq(H, OM, OL)"
   ]
  },
  {
   "cell_type": "code",
   "execution_count": 17,
   "metadata": {},
   "outputs": [
    {
     "ename": "NameError",
     "evalue": "name 'grid' is not defined",
     "output_type": "error",
     "traceback": [
      "\u001b[0;31m---------------------------------------------------------------------------\u001b[0m",
      "\u001b[0;31mNameError\u001b[0m                                 Traceback (most recent call last)",
      "\u001b[0;32m<ipython-input-17-c4b52cd79de7>\u001b[0m in \u001b[0;36m<module>\u001b[0;34m\u001b[0m\n\u001b[0;32m----> 1\u001b[0;31m \u001b[0mgrid\u001b[0m\u001b[0;34m.\u001b[0m\u001b[0mshape\u001b[0m\u001b[0;34m\u001b[0m\u001b[0;34m\u001b[0m\u001b[0m\n\u001b[0m",
      "\u001b[0;31mNameError\u001b[0m: name 'grid' is not defined"
     ]
    }
   ],
   "source": [
    "grid.shape"
   ]
  },
  {
   "cell_type": "code",
   "execution_count": 18,
   "metadata": {},
   "outputs": [],
   "source": [
    "from getdist.densities import DensityND"
   ]
  },
  {
   "cell_type": "code",
   "execution_count": null,
   "metadata": {},
   "outputs": [],
   "source": []
  },
  {
   "cell_type": "code",
   "execution_count": 19,
   "metadata": {},
   "outputs": [],
   "source": [
    "points = np.row_stack([H.ravel(), OM.ravel(), OL.ravel()])"
   ]
  },
  {
   "cell_type": "code",
   "execution_count": 20,
   "metadata": {},
   "outputs": [
    {
     "data": {
      "text/plain": [
       "array([[0.4       , 0.4       , 0.4       , ..., 1.        , 1.        ,\n",
       "        1.        ],\n",
       "       [0.        , 0.        , 0.        , ..., 1.        , 1.        ,\n",
       "        1.        ],\n",
       "       [0.        , 0.03448276, 0.06896552, ..., 0.93103448, 0.96551724,\n",
       "        1.        ]])"
      ]
     },
     "execution_count": 20,
     "metadata": {},
     "output_type": "execute_result"
    }
   ],
   "source": [
    "points"
   ]
  },
  {
   "cell_type": "code",
   "execution_count": 21,
   "metadata": {},
   "outputs": [
    {
     "ename": "NameError",
     "evalue": "name 'grid' is not defined",
     "output_type": "error",
     "traceback": [
      "\u001b[0;31m---------------------------------------------------------------------------\u001b[0m",
      "\u001b[0;31mNameError\u001b[0m                                 Traceback (most recent call last)",
      "\u001b[0;32m<ipython-input-21-6925234bbd2b>\u001b[0m in \u001b[0;36m<module>\u001b[0;34m\u001b[0m\n\u001b[0;32m----> 1\u001b[0;31m \u001b[0mdensity\u001b[0m \u001b[0;34m=\u001b[0m \u001b[0mDensityND\u001b[0m\u001b[0;34m(\u001b[0m\u001b[0mpoints\u001b[0m\u001b[0;34m,\u001b[0m \u001b[0mgrid\u001b[0m\u001b[0;34m.\u001b[0m\u001b[0mravel\u001b[0m\u001b[0;34m(\u001b[0m\u001b[0;34m)\u001b[0m\u001b[0;34m)\u001b[0m\u001b[0;34m\u001b[0m\u001b[0;34m\u001b[0m\u001b[0m\n\u001b[0m",
      "\u001b[0;31mNameError\u001b[0m: name 'grid' is not defined"
     ]
    }
   ],
   "source": [
    "density = DensityND(points, grid.ravel())"
   ]
  },
  {
   "cell_type": "code",
   "execution_count": 22,
   "metadata": {},
   "outputs": [
    {
     "ename": "NameError",
     "evalue": "name 'density' is not defined",
     "output_type": "error",
     "traceback": [
      "\u001b[0;31m---------------------------------------------------------------------------\u001b[0m",
      "\u001b[0;31mNameError\u001b[0m                                 Traceback (most recent call last)",
      "\u001b[0;32m<ipython-input-22-6c5937c202ef>\u001b[0m in \u001b[0;36m<module>\u001b[0;34m\u001b[0m\n\u001b[0;32m----> 1\u001b[0;31m \u001b[0mdensity\u001b[0m\u001b[0;34m\u001b[0m\u001b[0;34m\u001b[0m\u001b[0m\n\u001b[0m",
      "\u001b[0;31mNameError\u001b[0m: name 'density' is not defined"
     ]
    }
   ],
   "source": [
    "density"
   ]
  },
  {
   "cell_type": "code",
   "execution_count": 23,
   "metadata": {},
   "outputs": [],
   "source": [
    "import emcee"
   ]
  },
  {
   "cell_type": "code",
   "execution_count": 24,
   "metadata": {},
   "outputs": [],
   "source": [
    "def log_prob(x):\n",
    "    \n",
    "    h, Om, Ol = x\n",
    "    \n",
    "    x = -0.5*chisq(h, Om, Ol)\n",
    "    \n",
    "    if np.isfinite(x):\n",
    "        return x\n",
    "    \n",
    "    return -1e30"
   ]
  },
  {
   "cell_type": "code",
   "execution_count": 25,
   "metadata": {},
   "outputs": [],
   "source": [
    "ndim, nwalkers = 3, 100\n",
    "p0 = np.random.random(size=(nwalkers, ndim))"
   ]
  },
  {
   "cell_type": "code",
   "execution_count": 26,
   "metadata": {},
   "outputs": [
    {
     "data": {
      "text/plain": [
       "(100, 3)"
      ]
     },
     "execution_count": 26,
     "metadata": {},
     "output_type": "execute_result"
    }
   ],
   "source": [
    "p0.shape"
   ]
  },
  {
   "cell_type": "code",
   "execution_count": 27,
   "metadata": {},
   "outputs": [],
   "source": [
    "sampler = emcee.EnsembleSampler(nwalkers, ndim, log_prob,\n",
    "                                threads=4)"
   ]
  },
  {
   "cell_type": "code",
   "execution_count": 28,
   "metadata": {},
   "outputs": [
    {
     "name": "stderr",
     "output_type": "stream",
     "text": [
      "100%|██████████| 10000/10000 [45:43<00:00,  3.64it/s] \n"
     ]
    },
    {
     "data": {
      "text/plain": [
       "State([[ 0.6789758   0.35482102  0.68183996]\n",
       " [ 0.60612251  0.27875644  0.25495594]\n",
       " [ 0.64683509  0.44742525  0.65885118]\n",
       " [ 0.66800891  0.28576928  0.57869709]\n",
       " [ 0.68898334  0.31058421  0.72278949]\n",
       " [ 0.70804227  0.52499215  1.0237209 ]\n",
       " [ 0.71591177  0.6876007   1.17591964]\n",
       " [ 0.72080606  0.55811455  1.072386  ]\n",
       " [ 0.686231    0.55666638  0.99243128]\n",
       " [ 0.59295017  0.41969493  0.29095221]\n",
       " [ 0.67633921  0.44608666  0.79700776]\n",
       " [ 0.68366323  0.48201883  0.92338872]\n",
       " [ 0.5579416   0.2447307  -0.09649672]\n",
       " [ 0.6136361  -0.01376168  0.00300572]\n",
       " [ 0.61911219  0.31246552  0.39332319]\n",
       " [ 0.6439189   0.65414217  0.88843505]\n",
       " [ 0.70129994  0.58326677  1.04694207]\n",
       " [ 0.56092149  0.30319412 -0.0160585 ]\n",
       " [ 0.65989585  0.49554963  0.769353  ]\n",
       " [ 0.58609293  0.03310999 -0.05552085]\n",
       " [ 0.61719913  0.04300463  0.14554919]\n",
       " [ 0.61932975  0.03201951  0.15015102]\n",
       " [ 0.63465254  0.36972737  0.52336691]\n",
       " [ 0.69395844  0.54908975  0.9784104 ]\n",
       " [ 0.65252839  0.3783934   0.68097617]\n",
       " [ 0.64381267  0.48161088  0.67229824]\n",
       " [ 0.63545657  0.22223689  0.32983631]\n",
       " [ 0.65456095  0.32981441  0.66421371]\n",
       " [ 0.64170112  0.28173724  0.42303256]\n",
       " [ 0.68942262  0.48196607  0.84621627]\n",
       " [ 0.72195885  0.57378037  1.12479617]\n",
       " [ 0.7163649   0.35339625  0.85836233]\n",
       " [ 0.62652696  0.33333724  0.44941256]\n",
       " [ 0.74597567  0.61284139  1.2256163 ]\n",
       " [ 0.72062941  0.42532977  1.01202388]\n",
       " [ 0.67913973  0.31927152  0.65056068]\n",
       " [ 0.66523314  0.50179286  0.84062029]\n",
       " [ 0.62105491  0.35805973  0.52003751]\n",
       " [ 0.63921833  0.19214797  0.34879717]\n",
       " [ 0.67788643  0.54936057  0.91321705]\n",
       " [ 0.62494772  0.19857907  0.30790344]\n",
       " [ 0.66977695  0.49323555  0.80520457]\n",
       " [ 0.69467926  0.12845322  0.60265712]\n",
       " [ 0.58389394  0.1122821  -0.02749539]\n",
       " [ 0.71278841  0.43281683  0.97408781]\n",
       " [ 0.71041583  0.37308865  0.88898503]\n",
       " [ 0.64413624  0.49968465  0.68866085]\n",
       " [ 0.64803804  0.31465155  0.58289801]\n",
       " [ 0.6697442   0.40201874  0.75381955]\n",
       " [ 0.72178128  0.53803239  1.01953611]\n",
       " [ 0.72155049  0.41135014  0.98145801]\n",
       " [ 0.6078261   0.46581799  0.4624571 ]\n",
       " [ 0.62346714  0.0986257   0.2735085 ]\n",
       " [ 0.59832644  0.19419497  0.125861  ]\n",
       " [ 0.65433508  0.41033407  0.67527555]\n",
       " [ 0.60440376  0.12407036  0.12419708]\n",
       " [ 0.69725808  0.54722381  0.9949108 ]\n",
       " [ 0.62692394  0.05438664  0.22287426]\n",
       " [ 0.59178887  0.07629853  0.06889727]\n",
       " [ 0.67369236  0.60558243  0.90793004]\n",
       " [ 0.70875044  0.36431817  0.82102202]\n",
       " [ 0.65294704  0.34831174  0.60210345]\n",
       " [ 0.68123661  0.3243301   0.68547197]\n",
       " [ 0.73908182  0.47238346  1.06590256]\n",
       " [ 0.5978429   0.14050363  0.15190004]\n",
       " [ 0.68676827  0.39904985  0.83041804]\n",
       " [ 0.68230895  0.38094992  0.76755549]\n",
       " [ 0.572305    0.15346844  0.06289185]\n",
       " [ 0.69295753  0.72135817  1.1770312 ]\n",
       " [ 0.6984484   0.58701564  1.02494735]\n",
       " [ 0.66423709  0.23013441  0.5479636 ]\n",
       " [ 0.61467971  0.16802282  0.24972626]\n",
       " [ 0.69212836  0.34394998  0.75745891]\n",
       " [ 0.62806743  0.4482423   0.56262639]\n",
       " [ 0.69020129  0.52279126  0.96299224]\n",
       " [ 0.60428608  0.38661071  0.36120459]\n",
       " [ 0.65518097  0.049616    0.37253534]\n",
       " [ 0.64862261  0.17692857  0.38413315]\n",
       " [ 0.63116675  0.20214833  0.3318585 ]\n",
       " [ 0.64077555  0.43726141  0.64057661]\n",
       " [ 0.66381168  0.27954921  0.52522651]\n",
       " [ 0.6169551   0.46981908  0.56282652]\n",
       " [ 0.69702928  0.64278717  1.07658436]\n",
       " [ 0.73112709  0.42207089  1.00356926]\n",
       " [ 0.7259946   0.24326954  0.78063635]\n",
       " [ 0.65961901  0.29793614  0.61298305]\n",
       " [ 0.6940312   0.56786026  0.96009284]\n",
       " [ 0.65287227  0.15497165  0.46411951]\n",
       " [ 0.61579646  0.19034556  0.33241384]\n",
       " [ 0.67596077  0.37912057  0.71879467]\n",
       " [ 0.7206549   0.58121852  1.08461315]\n",
       " [ 0.70008463  0.33842323  0.76249911]\n",
       " [ 0.6217502   0.34264157  0.41466531]\n",
       " [ 0.70937304  0.47413754  0.94280804]\n",
       " [ 0.60874455  0.04203704  0.0654439 ]\n",
       " [ 0.70670266  0.43104675  0.87816288]\n",
       " [ 0.64421942  0.3174517   0.55026037]\n",
       " [ 0.60590759 -0.03675743  0.04331579]\n",
       " [ 0.64812948  0.27978846  0.50378175]\n",
       " [ 0.65574655  0.17104438  0.48215606]], log_prob=[ -8.73969574  -9.34807612  -8.44738863  -8.4474799   -8.25782072\n",
       "  -8.75199013 -10.22008854  -8.8830694   -9.55773594 -11.28416162\n",
       "  -7.99634963  -9.81022145 -11.51499495 -10.5172564   -8.58331439\n",
       " -10.93849869  -8.92238849 -11.64235344  -8.46721099  -9.892265\n",
       "  -9.66831533  -9.86829451  -8.37146479  -8.54340055  -9.10840272\n",
       "  -8.81808319  -9.83036239 -10.25564768  -9.52949807  -9.10972389\n",
       "  -9.42918285  -8.82090216  -8.44280845  -9.98025802 -11.30021299\n",
       "  -8.72390727  -8.85805584 -10.26704576  -8.83810488  -8.60819284\n",
       "  -8.49365752  -8.36989908 -11.94962436  -9.72932683  -9.67882338\n",
       "  -8.97045214  -8.99646954  -8.54711571  -8.15939368  -9.95047428\n",
       "  -9.95753067 -10.06228261 -10.51146878  -9.48864648  -8.07421133\n",
       "  -9.0573111   -8.59050266  -9.99517988 -10.69202152  -9.92378922\n",
       "  -8.84839773  -7.94715042  -8.1670832   -9.26375131  -9.80508466\n",
       "  -8.51777796  -7.92889309 -13.18594835 -11.52335985  -8.85707092\n",
       "  -8.38343434  -8.84121579  -8.16776595  -9.0241077   -8.84112469\n",
       "  -9.67428104 -11.67395927  -8.86398785  -8.54089646  -8.49974081\n",
       "  -9.57862641  -9.70548197  -9.46469919  -9.38819527 -10.71510991\n",
       "  -8.35996774  -9.21430741 -10.0366738  -10.51385796  -7.99095732\n",
       "  -9.1878022   -8.75302296  -8.83928375  -8.42158766  -9.45872556\n",
       "  -8.63764542  -8.18466126 -11.61962805  -8.06539836  -9.47433929], blobs=None, random_state=('MT19937', array([3144212434, 3553627757,   89650403, 3869983887, 4148903966,\n",
       "       2811991880, 3165379312, 2255098089, 2955431310, 2120012027,\n",
       "       1442232764, 2668406333, 1952994089, 1519065245, 1111287982,\n",
       "       2009599488, 1965459931, 2965238848,  101466013, 1637464923,\n",
       "       2102963207, 1765703479, 3502293080,  288576662, 3412922299,\n",
       "       3686067133, 2244237944, 2413911966, 2755269270, 2772763339,\n",
       "       1844516792, 2854398227, 3914557596, 3423019249,  395468341,\n",
       "       3753474598, 1158276072,  720693510, 2404653160, 3326232432,\n",
       "        813029664, 2058916256, 2203544745, 1075034634,  358998548,\n",
       "        621126279,  777935725, 2379572637,  758229130, 1461623754,\n",
       "       2067708310, 2159877755, 1616138414, 3886439995, 1431681788,\n",
       "       3868254610,  725735093,  827466497, 3579310476, 3025288646,\n",
       "       3127927676, 3726836127,  735034983,  782990347,  249127714,\n",
       "       2039471983, 2240095098, 3446771255, 2280115902, 3472784582,\n",
       "       3168197761,  142029821, 1517283700, 1492174576,  214903050,\n",
       "       1823251154, 3196978340,  197574696,  693454455, 3013794188,\n",
       "        296097526, 1528465676, 3846697594, 3676631452, 4133472692,\n",
       "       2144932003, 1820776339,    3328752, 4087438053,  586552747,\n",
       "       3473565620, 2573414330, 3888626529,  516298304, 1736202594,\n",
       "       4041504792,  511590540, 1090708424, 3779415884,  234723516,\n",
       "        117384794, 3949681830,  139115702, 1028177720,  516722882,\n",
       "       2261160294, 1006470415, 3473653321, 1943350690,  537465591,\n",
       "       3154299055,  110283535,  806035613, 4213711654, 1500530182,\n",
       "        468532768, 1349838161,  215524463, 3768643405,  113572196,\n",
       "       4292386826, 2349605175, 2315754401, 3002033497, 1102345791,\n",
       "       1913921340,  101566330, 4198376586, 3802591707, 2512855051,\n",
       "       2185615810,  911333589, 3927168749, 2063089332, 2518875484,\n",
       "       4150300446, 2306614983,  237321815, 3295034166, 3060841778,\n",
       "       1924765938, 1024940057, 3795505858, 2486149931,  691318192,\n",
       "       3701117566,  301876589,  958531084, 3312758109, 3113421355,\n",
       "       2807541791, 2290887728, 3343459079, 4112245711, 4212131266,\n",
       "        275245230, 2309916250, 2440553534,   40356915, 3728571334,\n",
       "       3839057116, 2451040769,  773544025,  802829910,  288671839,\n",
       "       2809550854, 1093409442, 1044655956, 2295402300, 2151649300,\n",
       "       2774943178, 3437960854, 1115204541,  736452079, 2215546894,\n",
       "       2576955820, 4217831589, 2099170039, 2858792107,  235847886,\n",
       "       3984879618, 3277800533, 2491041036,  895869191, 3797613197,\n",
       "        899873683, 3534303995,   16504200, 2362172956, 1961665189,\n",
       "        881224448, 1862273423,  424036501, 2307153343, 2199796192,\n",
       "       1498555966, 3096186018,  808964076,   81119736, 2899860348,\n",
       "        834031997, 2476544883, 3005401466, 3402672279, 3491894959,\n",
       "       2397329051,  195892364,  993143241, 3298833974, 3998010402,\n",
       "       3118834039, 1213204267, 2737897001,  222999656,  856556030,\n",
       "       1097327070, 1301068690,   64401616, 2831209905, 3843739782,\n",
       "       4165290474, 1566106115, 2883120679, 1590370485, 2378584670,\n",
       "       4032562775, 3695746781, 1822131298, 3348104242, 2323564550,\n",
       "       1336140029,   14409171,  590876039,    2837334, 1578718637,\n",
       "       2328939090, 1686973671, 1053926537, 1049391124, 3720219563,\n",
       "       3684919362,  351118550, 3703886147,  899718994, 2974222645,\n",
       "       2260297934, 3195144124, 1149345841, 3088237688, 2495774130,\n",
       "       2342354729,   76547056, 1463099533, 2867633314, 3552307436,\n",
       "       2902793750, 3672628410, 1248559349, 3488375101, 1444825388,\n",
       "        603420137, 2189215054, 1180396835, 3984743021,  819984974,\n",
       "        530804344, 1800930620, 1005197362, 2873695536, 3615472719,\n",
       "        532077733, 3273248549,  153321557, 3610441920, 1150091491,\n",
       "       3736750810, 3153658730, 4245241228, 1266395374, 2739024078,\n",
       "       2535141323,  357754500, 3163832481, 3075177051,  126029798,\n",
       "       1198696772, 2091316555, 3900650253, 3151803036, 2661733519,\n",
       "       1907389614, 3376248505, 1014767780,  281854342, 2816179508,\n",
       "       1797342639, 2818759923, 3541265492,  704805966,  600673134,\n",
       "       4129192217, 3638000460, 4280904042, 4144768313, 2463993547,\n",
       "       3849175436, 3963738428, 1910654167,  363848246, 1417051629,\n",
       "       2446109251, 3207137865, 4214132617, 3767505538, 2950595505,\n",
       "          7848575, 4220030635,  474328729, 1460864686,  810611488,\n",
       "        388239022, 2590309205, 2032499917,   28619441, 2036508164,\n",
       "        953918424,  993805940,  119437102, 4180707550, 2408324992,\n",
       "       2054960774, 3113857602, 4155481439, 1294005192, 2722087470,\n",
       "       2776424996, 2811641817,  477333143, 2317019968, 2603516365,\n",
       "       3663318520, 3624470970, 3683805382,   91811462, 2026128537,\n",
       "       2703559908,   15922970, 2245426978, 3976356427,   91192016,\n",
       "       1409145658, 2908405632, 3177571557, 4148135182, 4055332987,\n",
       "       3223803926, 1308861048,  548782987, 3284172791, 3295052703,\n",
       "       4247495042, 2035878005, 4086716741, 1338631264, 2616539730,\n",
       "       3770126206, 4110016142,  721227561, 2046591759,  731215271,\n",
       "       1119426052, 1693835655,  347634361, 1549497543, 1803658544,\n",
       "       2350593927,  229335655, 2876156730, 2037470737,  394783986,\n",
       "       1834479710, 2914709433, 3034990981,  276596228, 2293846510,\n",
       "       1071287701, 4046060184, 1741193928,  889182767, 3826779782,\n",
       "         51379316, 1658446024,  289464803,    4097260,  836755735,\n",
       "        634695129, 4029719086, 1874569810, 4053447248,  620534302,\n",
       "       1533900628,  974776276, 2717778815, 3866654904, 3196988555,\n",
       "       3160305924, 3270701773,   80719976, 2782344088, 3760184395,\n",
       "       2280080834, 2161594251,  424772791, 3508187077, 1897410369,\n",
       "       1565195007, 2443797792, 4128964126, 2721023326, 2563773162,\n",
       "       1143363820, 2237091690, 2761969894,  479957098, 4187675293,\n",
       "         91810223,  164881596,  734199630, 2365215130,   59233331,\n",
       "       3155908003, 4276687623, 2339216857, 3001237402, 2132288296,\n",
       "        726321595, 1284509678, 3757710084, 2864430694, 3229671189,\n",
       "       3730871999, 3975908455,  793893380, 3686171650, 2722444285,\n",
       "       3432277828,  461937602, 2016285835, 1812501831,  345553248,\n",
       "        391259791, 1299332657, 2331651132, 1596769334, 2095469943,\n",
       "        427027745, 1162312858, 1667734610, 2154217896, 2724775482,\n",
       "        650314132,  415156364,  572219253,  175986019,  866457029,\n",
       "       2089417217,  725949812, 2853911445, 1604184333, 3997738137,\n",
       "       1681309899, 4243166554,  797399832,  450978438,  770375465,\n",
       "       1468657250, 3155542688, 1612425189, 3433446605, 3169217084,\n",
       "       2867280458, 4155815179, 3959625140, 1097693527, 2764141161,\n",
       "       2220884094, 3437316436,  320503257, 4037524650,  238893860,\n",
       "       1669943420, 1806813386, 1363325294, 3688244342, 3097265307,\n",
       "       2423086832, 1096448854, 3645573715, 3579414257, 1553435781,\n",
       "       3333144739, 3072946860, 1292869295, 2684514953,  228534211,\n",
       "       3109983104, 2129128843, 2531079849, 2451556696, 3531388706,\n",
       "       2041747805, 1618950976, 3333463386,  188521656, 1844242432,\n",
       "       3371031494, 2303024169, 4125369734, 1720132927, 1331403705,\n",
       "       2067977426, 4168801433, 1844423588, 3931783159,  103144162,\n",
       "       3631589804,  464263947, 3916078557,  599591512,  484244408,\n",
       "       3694256011, 3390614036, 1316343683,  703772008, 2849656757,\n",
       "       3895158775, 2475935617,  681308316, 1604170597, 2884666877,\n",
       "       3018037765, 2317097308, 1528877429, 2236137352, 3024312683,\n",
       "       1803623541, 3504712899, 2352710458, 3182174154, 1229089589,\n",
       "        974247588,  482233538,  156723689, 2355456452, 1568240204,\n",
       "       3264926063, 4223340058,   97159241, 1779165231,  291622960,\n",
       "       2472832962, 3811641203, 1639902639, 3175503324, 3766367165,\n",
       "        177832204, 1364621852,  343316253, 3304342047, 4233673975,\n",
       "       1040959827, 3844834815,  442757274, 4293053615,  952645637,\n",
       "       3460662944, 2335688573, 1990514509, 1745733498, 1561384813,\n",
       "       4001417106,  912754496, 2356190964, 3628263861,  989166297,\n",
       "       3532931011,  208642613, 3359846416,  402893982, 2585718321,\n",
       "       2287191454,  922677010,  331945090, 1247085233, 3848106645,\n",
       "       3278202633, 3760307475, 1407060109, 2246917021, 4155155242,\n",
       "       2492088451, 1818593178, 2783314404, 3962909620, 1969100019,\n",
       "        541961451, 1632215418, 2396972196, 1104260164, 1498051712,\n",
       "       3872149214, 3508674252,   17137274, 2624602330, 4147766471,\n",
       "       2603609916, 2773555557, 1740353226, 3736731631, 2140013633,\n",
       "       2006716439,  895665653, 3212197296, 3984903623], dtype=uint32), 606, 0, 0.0))"
      ]
     },
     "execution_count": 28,
     "metadata": {},
     "output_type": "execute_result"
    }
   ],
   "source": [
    "sampler.run_mcmc(p0, 10000, progress=True)"
   ]
  },
  {
   "cell_type": "code",
   "execution_count": 29,
   "metadata": {},
   "outputs": [],
   "source": [
    "sample = sampler.get_chain(flat=True)"
   ]
  },
  {
   "cell_type": "code",
   "execution_count": 30,
   "metadata": {},
   "outputs": [],
   "source": [
    "n, dim = sample.shape"
   ]
  },
  {
   "cell_type": "code",
   "execution_count": 31,
   "metadata": {},
   "outputs": [],
   "source": [
    "nsample = sample[n//5:]"
   ]
  },
  {
   "cell_type": "code",
   "execution_count": 33,
   "metadata": {},
   "outputs": [],
   "source": [
    "MCSamples?"
   ]
  },
  {
   "cell_type": "code",
   "execution_count": 40,
   "metadata": {},
   "outputs": [
    {
     "name": "stdout",
     "output_type": "stream",
     "text": [
      "Removed no burn in\n"
     ]
    }
   ],
   "source": [
    "mcsamples = MCSamples(samples=nsample)"
   ]
  },
  {
   "cell_type": "code",
   "execution_count": 41,
   "metadata": {},
   "outputs": [],
   "source": [
    "mcsamples.removeBurn()"
   ]
  },
  {
   "cell_type": "code",
   "execution_count": 42,
   "metadata": {},
   "outputs": [
    {
     "name": "stderr",
     "output_type": "stream",
     "text": [
      "WARNING:root:fine_bins_2D not large enough for optimal density\n",
      "WARNING:root:fine_bins_2D not large enough for optimal density\n"
     ]
    },
    {
     "data": {
      "image/png": "[encoded data removed]",
      "text/plain": [
       "<Figure size 432x432 with 6 Axes>"
      ]
     },
     "metadata": {
      "needs_background": "light"
     },
     "output_type": "display_data"
    }
   ],
   "source": [
    "g = plots.get_subplot_plotter()\n",
    "g.triangle_plot(mcsamples, filled=True, markers='.')"
   ]
  },
  {
   "cell_type": "code",
   "execution_count": 43,
   "metadata": {},
   "outputs": [
    {
     "name": "stderr",
     "output_type": "stream",
     "text": [
      "WARNING:root:fine_bins_2D not large enough for optimal density\n",
      "WARNING:root:fine_bins_2D not large enough for optimal density\n"
     ]
    },
    {
     "data": {
      "image/png": "[encoded data removed]",
      "text/plain": [
       "<Figure size 432x432 with 6 Axes>"
      ]
     },
     "metadata": {
      "needs_background": "light"
     },
     "output_type": "display_data"
    }
   ],
   "source": [
    "covariance = np.array(m.matrix())\n",
    "mean = np.array([m.values[p] for p in m.parameters])\n",
    "\n",
    "gauss=GaussianND(mean, covariance, labels=m.parameters)\n",
    "\n",
    "g = plots.get_subplot_plotter()\n",
    "g.settings.num_plot_contours = 3\n",
    "g.triangle_plot([mcsamples, gauss],filled=[True, False])"
   ]
  },
  {
   "cell_type": "code",
   "execution_count": null,
   "metadata": {},
   "outputs": [],
   "source": [
    "sam"
   ]
  },
  {
   "cell_type": "code",
   "execution_count": null,
   "metadata": {},
   "outputs": [],
   "source": []
  }
 ],
 "metadata": {
  "kernelspec": {
   "display_name": "Python 3",
   "language": "python",
   "name": "python3"
  },
  "language_info": {
   "codemirror_mode": {
    "name": "ipython",
    "version": 3
   },
   "file_extension": ".py",
   "mimetype": "text/x-python",
   "name": "python",
   "nbconvert_exporter": "python",
   "pygments_lexer": "ipython3",
   "version": "3.7.4"
  }
 },
 "nbformat": 4,
 "nbformat_minor": 2
}
