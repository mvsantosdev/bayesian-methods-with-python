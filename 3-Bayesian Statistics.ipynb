{
 "cells": [
  {
   "cell_type": "markdown",
   "metadata": {},
   "source": [
    "# Bayesian Statistics\n",
    "\n",
    "## Conditional Probability\n",
    "\n",
    "Definition: $$ P(A|B) = \\frac{P(A, B)}{P(B)} $$\n",
    "\n",
    "If A and B are independent: $P(A|B) = P(A)$, since $P(A,B)=P(A)P(B)$.\n",
    "\n",
    "## Bayes Theorem\n",
    "\n",
    "Assuming $P(A, B) = P(B, A)$\n",
    "\n",
    "$$ P(A|B)P(B) = P(B|A)P(A) $$\n",
    "\n",
    "Therefore\n",
    "\n",
    "$$ P(A|B) = \\frac{P(B|A)P(A)}{P(B)} $$\n",
    "\n",
    "Example: Monty Hall Problem\n",
    "\n"
   ]
  },
  {
   "cell_type": "code",
   "execution_count": null,
   "metadata": {},
   "outputs": [],
   "source": []
  }
 ],
 "metadata": {
  "kernelspec": {
   "display_name": "Python 3",
   "language": "python",
   "name": "python3"
  },
  "language_info": {
   "codemirror_mode": {
    "name": "ipython",
    "version": 3
   },
   "file_extension": ".py",
   "mimetype": "text/x-python",
   "name": "python",
   "nbconvert_exporter": "python",
   "pygments_lexer": "ipython3",
   "version": "3.7.4"
  }
 },
 "nbformat": 4,
 "nbformat_minor": 2
}
